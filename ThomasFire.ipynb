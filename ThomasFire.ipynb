{
 "cells": [
  {
   "cell_type": "markdown",
   "metadata": {},
   "source": [
    "# An Analysis of the Santa Barbara and Ventura Thomas Fire  "
   ]
  },
  {
   "cell_type": "markdown",
   "metadata": {},
   "source": [
    "This analysis was conducted using data from the Environmental Protection Agency (EPA) as well as Landsat 8 satellite data to analyze trends and display the effects of the Thomas Fire that occured on December 4th in 2017. This event burned a total of 281,893 acres and resulted in an increased AQI categorized as unhealthy in Santa Barbara and Ventura. "
   ]
  },
  {
   "cell_type": "markdown",
   "metadata": {},
   "source": [
    "Author: Kate Becker\n",
    "\n",
    "Published: December, 10th 2023\n",
    "\n",
    "GitHub Repo: https://github.com/kateebeckerr/ThomasFire_Analysis.git"
   ]
  },
  {
   "cell_type": "markdown",
   "metadata": {},
   "source": [
    "### Key components of this analysis\n",
    "- Retrieval of vector data from an online repository\n",
    "- Visualizing raster data and manipulation \n",
    "- Completing a time series analysis \n",
    "- Creating a false color image \n",
    "- Refining metadata \n",
    "- Exploring coordiante reference systems \n",
    "- Wrangling TIGER shapefiles metadata\n",
    "- Using the NetCDF data model and multi dimensional data\n",
    "- Explore xarray data stuctures"
   ]
  },
  {
   "cell_type": "markdown",
   "metadata": {},
   "source": [
    "### Dataset Descriptors\n",
    "\n",
    "1. \n",
    "Daily air quality index data from 2017 and 2018  \n",
    "(https://www.airnow.gov/aqi/aqi-basics/)\n",
    "(https://www.epa.gov)\n",
    "(https://www.epa.gov/outdoor-air-quality-data)\n",
    "\n",
    "\n",
    "2. \n",
    "A simplified collection of bands (red, green, blue, near-infrared and shortwave infrared) from the Landsat Collection 2 Level-2 atmosperically corrected surface reflectance data, collected by the Landsat 8 satellite. \n",
    "(https://planetarycomputer.microsoft.com/dataset/landsat-c2-l2)\n",
    "\n",
    "\n",
    "3.\n",
    "A shapefile of fire perimeters in California during 2017. \n",
    "(https://gis.data.ca.gov/datasets/CALFIRE-Forestry::california-fire-perimeters-all-1/about)\n",
    "\n",
    "\n"
   ]
  },
  {
   "cell_type": "markdown",
   "metadata": {},
   "source": [
    "### Import Necessary Libraries and Functions"
   ]
  },
  {
   "cell_type": "code",
   "execution_count": 3,
   "metadata": {},
   "outputs": [],
   "source": [
    "import os\n",
    "import numpy as np\n",
    "import matplotlib.pyplot as plt\n",
    "import geopandas as gpd\n",
    "import pandas as pd \n",
    "import rioxarray as rioxr\n",
    "\n",
    "from shapely.geometry import box\n",
    "from shapely.geometry import Polygon\n",
    "from shapely.geometry import Point"
   ]
  },
  {
   "cell_type": "markdown",
   "metadata": {},
   "source": [
    "### Data Import"
   ]
  },
  {
   "cell_type": "code",
   "execution_count": 4,
   "metadata": {},
   "outputs": [
    {
     "ename": "RasterioIOError",
     "evalue": "/Users/katebecker/Documents/Bren/Fall_Q/EDS_220/final/ThomasFire_Analysis/eds220_hwk4_task3_repo/data/landsat8-2018-01-26-sb-simplified.nc: No such file or directory",
     "output_type": "error",
     "traceback": [
      "\u001b[0;31m---------------------------------------------------------------------------\u001b[0m",
      "\u001b[0;31mKeyError\u001b[0m                                  Traceback (most recent call last)",
      "File \u001b[0;32m~/anaconda3/lib/python3.11/site-packages/xarray/backends/file_manager.py:209\u001b[0m, in \u001b[0;36mCachingFileManager._acquire_with_cache_info\u001b[0;34m(self, needs_lock)\u001b[0m\n\u001b[1;32m    208\u001b[0m \u001b[39mtry\u001b[39;00m:\n\u001b[0;32m--> 209\u001b[0m     file \u001b[39m=\u001b[39m \u001b[39mself\u001b[39m\u001b[39m.\u001b[39m_cache[\u001b[39mself\u001b[39m\u001b[39m.\u001b[39m_key]\n\u001b[1;32m    210\u001b[0m \u001b[39mexcept\u001b[39;00m \u001b[39mKeyError\u001b[39;00m:\n",
      "File \u001b[0;32m~/anaconda3/lib/python3.11/site-packages/xarray/backends/lru_cache.py:55\u001b[0m, in \u001b[0;36mLRUCache.__getitem__\u001b[0;34m(self, key)\u001b[0m\n\u001b[1;32m     54\u001b[0m \u001b[39mwith\u001b[39;00m \u001b[39mself\u001b[39m\u001b[39m.\u001b[39m_lock:\n\u001b[0;32m---> 55\u001b[0m     value \u001b[39m=\u001b[39m \u001b[39mself\u001b[39m\u001b[39m.\u001b[39m_cache[key]\n\u001b[1;32m     56\u001b[0m     \u001b[39mself\u001b[39m\u001b[39m.\u001b[39m_cache\u001b[39m.\u001b[39mmove_to_end(key)\n",
      "\u001b[0;31mKeyError\u001b[0m: [<function open at 0x1615874c0>, ('/Users/katebecker/Documents/Bren/Fall_Q/EDS_220/final/ThomasFire_Analysis/eds220_hwk4_task3_repo/data/landsat8-2018-01-26-sb-simplified.nc',), 'r', (('sharing', False),), '6414b726-6fe5-4afe-923d-073c4ca0ce72']",
      "\nDuring handling of the above exception, another exception occurred:\n",
      "\u001b[0;31mCPLE_OpenFailedError\u001b[0m                      Traceback (most recent call last)",
      "File \u001b[0;32mrasterio/_base.pyx:310\u001b[0m, in \u001b[0;36mrasterio._base.DatasetBase.__init__\u001b[0;34m()\u001b[0m\n",
      "File \u001b[0;32mrasterio/_base.pyx:221\u001b[0m, in \u001b[0;36mrasterio._base.open_dataset\u001b[0;34m()\u001b[0m\n",
      "File \u001b[0;32mrasterio/_err.pyx:221\u001b[0m, in \u001b[0;36mrasterio._err.exc_wrap_pointer\u001b[0;34m()\u001b[0m\n",
      "\u001b[0;31mCPLE_OpenFailedError\u001b[0m: /Users/katebecker/Documents/Bren/Fall_Q/EDS_220/final/ThomasFire_Analysis/eds220_hwk4_task3_repo/data/landsat8-2018-01-26-sb-simplified.nc: No such file or directory",
      "\nDuring handling of the above exception, another exception occurred:\n",
      "\u001b[0;31mRasterioIOError\u001b[0m                           Traceback (most recent call last)",
      "Cell \u001b[0;32mIn[4], line 17\u001b[0m\n\u001b[1;32m     13\u001b[0m \u001b[39m#Dataset 3\u001b[39;00m\n\u001b[1;32m     14\u001b[0m \u001b[39m#Reads the Landsat 8 satellite data for the data (2018-01-26) from a NetCDF file \u001b[39;00m\n\u001b[1;32m     15\u001b[0m \u001b[39m#Constructs a file path and places the .nc data within your current working directory and names landsat8 \u001b[39;00m\n\u001b[1;32m     16\u001b[0m landsat8 \u001b[39m=\u001b[39m os\u001b[39m.\u001b[39mpath\u001b[39m.\u001b[39mjoin(os\u001b[39m.\u001b[39mgetcwd(),\u001b[39m'\u001b[39m\u001b[39meds220_hwk4_task3_repo\u001b[39m\u001b[39m'\u001b[39m,\u001b[39m'\u001b[39m\u001b[39mdata\u001b[39m\u001b[39m'\u001b[39m,\u001b[39m'\u001b[39m\u001b[39mlandsat8-2018-01-26-sb-simplified.nc\u001b[39m\u001b[39m'\u001b[39m)\n\u001b[0;32m---> 17\u001b[0m landsat \u001b[39m=\u001b[39m rioxr\u001b[39m.\u001b[39mopen_rasterio(landsat8) \u001b[39m#Opens the raster data \u001b[39;00m\n\u001b[1;32m     18\u001b[0m landsat\n\u001b[1;32m     20\u001b[0m \u001b[39m#Dataset 4\u001b[39;00m\n\u001b[1;32m     21\u001b[0m \u001b[39m#Reads the shapefile for California fire perimeters in 2017 from the file path in your working directory \u001b[39;00m\n",
      "File \u001b[0;32m~/anaconda3/lib/python3.11/site-packages/rioxarray/_io.py:1124\u001b[0m, in \u001b[0;36mopen_rasterio\u001b[0;34m(filename, parse_coordinates, chunks, cache, lock, masked, mask_and_scale, variable, group, default_name, decode_times, decode_timedelta, band_as_variable, **open_kwargs)\u001b[0m\n\u001b[1;32m   1122\u001b[0m     \u001b[39melse\u001b[39;00m:\n\u001b[1;32m   1123\u001b[0m         manager \u001b[39m=\u001b[39m URIManager(file_opener, filename, mode\u001b[39m=\u001b[39m\u001b[39m\"\u001b[39m\u001b[39mr\u001b[39m\u001b[39m\"\u001b[39m, kwargs\u001b[39m=\u001b[39mopen_kwargs)\n\u001b[0;32m-> 1124\u001b[0m     riods \u001b[39m=\u001b[39m manager\u001b[39m.\u001b[39macquire()\n\u001b[1;32m   1125\u001b[0m     captured_warnings \u001b[39m=\u001b[39m rio_warnings\u001b[39m.\u001b[39mcopy()\n\u001b[1;32m   1127\u001b[0m \u001b[39m# raise the NotGeoreferencedWarning if applicable\u001b[39;00m\n",
      "File \u001b[0;32m~/anaconda3/lib/python3.11/site-packages/xarray/backends/file_manager.py:191\u001b[0m, in \u001b[0;36mCachingFileManager.acquire\u001b[0;34m(self, needs_lock)\u001b[0m\n\u001b[1;32m    176\u001b[0m \u001b[39mdef\u001b[39;00m \u001b[39macquire\u001b[39m(\u001b[39mself\u001b[39m, needs_lock\u001b[39m=\u001b[39m\u001b[39mTrue\u001b[39;00m):\n\u001b[1;32m    177\u001b[0m \u001b[39m    \u001b[39m\u001b[39m\"\"\"Acquire a file object from the manager.\u001b[39;00m\n\u001b[1;32m    178\u001b[0m \n\u001b[1;32m    179\u001b[0m \u001b[39m    A new file is only opened if it has expired from the\u001b[39;00m\n\u001b[0;32m   (...)\u001b[0m\n\u001b[1;32m    189\u001b[0m \u001b[39m        An open file object, as returned by ``opener(*args, **kwargs)``.\u001b[39;00m\n\u001b[1;32m    190\u001b[0m \u001b[39m    \"\"\"\u001b[39;00m\n\u001b[0;32m--> 191\u001b[0m     file, _ \u001b[39m=\u001b[39m \u001b[39mself\u001b[39m\u001b[39m.\u001b[39m_acquire_with_cache_info(needs_lock)\n\u001b[1;32m    192\u001b[0m     \u001b[39mreturn\u001b[39;00m file\n",
      "File \u001b[0;32m~/anaconda3/lib/python3.11/site-packages/xarray/backends/file_manager.py:215\u001b[0m, in \u001b[0;36mCachingFileManager._acquire_with_cache_info\u001b[0;34m(self, needs_lock)\u001b[0m\n\u001b[1;32m    213\u001b[0m     kwargs \u001b[39m=\u001b[39m kwargs\u001b[39m.\u001b[39mcopy()\n\u001b[1;32m    214\u001b[0m     kwargs[\u001b[39m\"\u001b[39m\u001b[39mmode\u001b[39m\u001b[39m\"\u001b[39m] \u001b[39m=\u001b[39m \u001b[39mself\u001b[39m\u001b[39m.\u001b[39m_mode\n\u001b[0;32m--> 215\u001b[0m file \u001b[39m=\u001b[39m \u001b[39mself\u001b[39m\u001b[39m.\u001b[39m_opener(\u001b[39m*\u001b[39m\u001b[39mself\u001b[39m\u001b[39m.\u001b[39m_args, \u001b[39m*\u001b[39m\u001b[39m*\u001b[39mkwargs)\n\u001b[1;32m    216\u001b[0m \u001b[39mif\u001b[39;00m \u001b[39mself\u001b[39m\u001b[39m.\u001b[39m_mode \u001b[39m==\u001b[39m \u001b[39m\"\u001b[39m\u001b[39mw\u001b[39m\u001b[39m\"\u001b[39m:\n\u001b[1;32m    217\u001b[0m     \u001b[39m# ensure file doesn't get overridden when opened again\u001b[39;00m\n\u001b[1;32m    218\u001b[0m     \u001b[39mself\u001b[39m\u001b[39m.\u001b[39m_mode \u001b[39m=\u001b[39m \u001b[39m\"\u001b[39m\u001b[39ma\u001b[39m\u001b[39m\"\u001b[39m\n",
      "File \u001b[0;32m~/anaconda3/lib/python3.11/site-packages/rasterio/env.py:451\u001b[0m, in \u001b[0;36mensure_env_with_credentials.<locals>.wrapper\u001b[0;34m(*args, **kwds)\u001b[0m\n\u001b[1;32m    448\u001b[0m     session \u001b[39m=\u001b[39m DummySession()\n\u001b[1;32m    450\u001b[0m \u001b[39mwith\u001b[39;00m env_ctor(session\u001b[39m=\u001b[39msession):\n\u001b[0;32m--> 451\u001b[0m     \u001b[39mreturn\u001b[39;00m f(\u001b[39m*\u001b[39margs, \u001b[39m*\u001b[39m\u001b[39m*\u001b[39mkwds)\n",
      "File \u001b[0;32m~/anaconda3/lib/python3.11/site-packages/rasterio/__init__.py:304\u001b[0m, in \u001b[0;36mopen\u001b[0;34m(fp, mode, driver, width, height, count, crs, transform, dtype, nodata, sharing, **kwargs)\u001b[0m\n\u001b[1;32m    301\u001b[0m path \u001b[39m=\u001b[39m _parse_path(raw_dataset_path)\n\u001b[1;32m    303\u001b[0m \u001b[39mif\u001b[39;00m mode \u001b[39m==\u001b[39m \u001b[39m\"\u001b[39m\u001b[39mr\u001b[39m\u001b[39m\"\u001b[39m:\n\u001b[0;32m--> 304\u001b[0m     dataset \u001b[39m=\u001b[39m DatasetReader(path, driver\u001b[39m=\u001b[39mdriver, sharing\u001b[39m=\u001b[39msharing, \u001b[39m*\u001b[39m\u001b[39m*\u001b[39mkwargs)\n\u001b[1;32m    305\u001b[0m \u001b[39melif\u001b[39;00m mode \u001b[39m==\u001b[39m \u001b[39m\"\u001b[39m\u001b[39mr+\u001b[39m\u001b[39m\"\u001b[39m:\n\u001b[1;32m    306\u001b[0m     dataset \u001b[39m=\u001b[39m get_writer_for_path(path, driver\u001b[39m=\u001b[39mdriver)(\n\u001b[1;32m    307\u001b[0m         path, mode, driver\u001b[39m=\u001b[39mdriver, sharing\u001b[39m=\u001b[39msharing, \u001b[39m*\u001b[39m\u001b[39m*\u001b[39mkwargs\n\u001b[1;32m    308\u001b[0m     )\n",
      "File \u001b[0;32mrasterio/_base.pyx:312\u001b[0m, in \u001b[0;36mrasterio._base.DatasetBase.__init__\u001b[0;34m()\u001b[0m\n",
      "\u001b[0;31mRasterioIOError\u001b[0m: /Users/katebecker/Documents/Bren/Fall_Q/EDS_220/final/ThomasFire_Analysis/eds220_hwk4_task3_repo/data/landsat8-2018-01-26-sb-simplified.nc: No such file or directory"
     ]
    }
   ],
   "source": [
    "#Dataset 1\n",
    "#Read air quality data for the year of 2017 from the EPA website\n",
    "#The data is in a compressed ZIP file and is read in \n",
    "aqi_2017 = pd.read_csv('https://aqs.epa.gov/aqsweb/airdata/daily_aqi_by_county_2017.zip')\n",
    "aqi_2017\n",
    "\n",
    "#Dataset 2\n",
    "#Read air quality data for the year of 2018 from the EPA website\n",
    "#The data is in a compressed ZIP file and is read in \n",
    "aqi_2018 = pd.read_csv('https://aqs.epa.gov/aqsweb/airdata/daily_aqi_by_county_2018.zip')\n",
    "aqi_2018\n",
    "\n",
    "#Dataset 3\n",
    "#Reads the Landsat 8 satellite data for the data (2018-01-26) from a NetCDF file \n",
    "#Constructs a file path and places the .nc data within your current working directory and names landsat8 \n",
    "landsat8 = os.path.join(os.getcwd(),'eds220_hwk4_task3_repo','data','landsat8-2018-01-26-sb-simplified.nc')\n",
    "landsat = rioxr.open_rasterio(landsat8) #Opens the raster data \n",
    "landsat\n",
    "\n",
    "#Dataset 4\n",
    "#Reads the shapefile for California fire perimeters in 2017 from the file path in your working directory \n",
    "california = gpd.read_file('eds220_hwk4_task3_repo/data/California_Fire/California_Fire_Perimeters_2017.shp')"
   ]
  }
 ],
 "metadata": {
  "kernelspec": {
   "display_name": "Python (eds217_2023)",
   "language": "python",
   "name": "eds217_2023"
  },
  "language_info": {
   "codemirror_mode": {
    "name": "ipython",
    "version": 3
   },
   "file_extension": ".py",
   "mimetype": "text/x-python",
   "name": "python",
   "nbconvert_exporter": "python",
   "pygments_lexer": "ipython3",
   "version": "3.11.3"
  },
  "orig_nbformat": 4
 },
 "nbformat": 4,
 "nbformat_minor": 2
}
